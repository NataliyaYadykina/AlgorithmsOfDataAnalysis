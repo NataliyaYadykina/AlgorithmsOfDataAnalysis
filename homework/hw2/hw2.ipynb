{
 "cells": [
  {
   "cell_type": "markdown",
   "metadata": {},
   "source": [
    "## Домашнее задание <a class='anchor' id='hw'>"
   ]
  },
  {
   "cell_type": "markdown",
   "metadata": {},
   "source": [
    "1. Постройте график зависимости весов всех признаков от lambda в самописной L2-регуляризации (на данных про ЕГЭ). Сделайте вывод"
   ]
  },
  {
   "cell_type": "markdown",
   "metadata": {},
   "source": [
    "2. Напишите функцию наподобие gradient_descent_reg_l2, но для применения L1-регуляризации."
   ]
  },
  {
   "cell_type": "markdown",
   "metadata": {},
   "source": [
    "3. *Можно ли к одному и тому же признаку применить сразу и нормализацию, и стандартизацию?"
   ]
  },
  {
   "cell_type": "markdown",
   "metadata": {},
   "source": [
    "4. *Сгенерируйте датасет при помощи <code>sklearn.datasets.make_regression</code> и обучите линейную модель при помощи градиентного и стохастического градиентного спуска. Нанесите среднеквадратичную ошибку для обоих методов на один график, сделайте выводы о разнице скорости сходимости каждого из методов."
   ]
  },
  {
   "cell_type": "code",
   "execution_count": 3,
   "metadata": {},
   "outputs": [],
   "source": [
    "import numpy as np\n",
    "import matplotlib.pyplot as plt\n",
    "from tqdm import tqdm\n",
    "# tqdm - это библиотека, которая позволяет создавать красивые\n",
    "# и информативные полосы прогресса в циклах,\n",
    "# что улучшает визуализацию процесса выполнения.\n",
    "import warnings\n",
    "# модуль warnings, который позволяет управлять предупреждениями,\n",
    "# выдаваемыми интерпретатором Python.\n",
    "warnings.filterwarnings('ignore')\n",
    "# устанавливает фильтр предупреждений на игнорирование предупреждений.\n",
    "# Такой подход может быть полезен, если вы не хотите видеть предупреждения,\n",
    "# которые не являются критическими для вашего кода или если они мешают читаемости вывода."
   ]
  },
  {
   "cell_type": "markdown",
   "metadata": {},
   "source": [
    "__Задача:__ предсказание баллов ЕГЭ ученика"
   ]
  },
  {
   "cell_type": "code",
   "execution_count": 4,
   "metadata": {},
   "outputs": [],
   "source": [
    "X = np.array([[   1,    1,  500,    1],\n",
    "              [   1,    1,  700,    1],\n",
    "              [   1,    2,  750,    2],\n",
    "              [   1,    5,  600,    1],\n",
    "              [   1,    3, 1450,    2],\n",
    "              [   1,    0,  800,    1],\n",
    "              [   1,    5, 1500,    3],\n",
    "              [   1,   10, 2000,    3],\n",
    "              [   1,    1,  450,    1],\n",
    "              [   1,    2, 1000,    2]])"
   ]
  },
  {
   "cell_type": "code",
   "execution_count": 5,
   "metadata": {},
   "outputs": [],
   "source": [
    "y = [45, 55, 50, 55, 60, 35, 75, 80, 50, 60]"
   ]
  },
  {
   "cell_type": "code",
   "execution_count": 6,
   "metadata": {},
   "outputs": [],
   "source": [
    "def standard_scale(X):\n",
    "    mean = X.mean(axis=0)\n",
    "    # Вычисляет среднее значение каждого столбца в массиве X.\n",
    "    # Параметр axis=0 указывает, что вычисления выполняются по столбцам.\n",
    "\n",
    "    std = X.std(axis=0)\n",
    "    # Вычисляет стандартное отклонение каждого столбца в массиве X.\n",
    "    # Параметр axis=0 указывает, что вычисления выполняются по столбцам.\n",
    "\n",
    "    return (X - mean) / std\n",
    "    # Возвращает массив, в котором каждое значение из массива X\n",
    "    # центрируется относительно среднего значения\n",
    "    # и затем масштабируется на стандартное отклонение.\n",
    "    # Таким образом, функция реализует масштабирование признаков\n",
    "    # с помощью стандартного метода масштабирования (стандартизации)."
   ]
  },
  {
   "cell_type": "code",
   "execution_count": 7,
   "metadata": {},
   "outputs": [
    {
     "data": {
      "text/plain": [
       "array([[ 1.        , -0.70710678, -0.97958969, -0.89625816],\n",
       "       [ 1.        , -0.70710678, -0.56713087, -0.89625816],\n",
       "       [ 1.        , -0.35355339, -0.46401617,  0.38411064],\n",
       "       [ 1.        ,  0.70710678, -0.77336028, -0.89625816],\n",
       "       [ 1.        ,  0.        ,  0.97958969,  0.38411064],\n",
       "       [ 1.        , -1.06066017, -0.36090146, -0.89625816],\n",
       "       [ 1.        ,  0.70710678,  1.08270439,  1.66447944],\n",
       "       [ 1.        ,  2.47487373,  2.11385144,  1.66447944],\n",
       "       [ 1.        , -0.70710678, -1.08270439, -0.89625816],\n",
       "       [ 1.        , -0.35355339,  0.05155735,  0.38411064]])"
      ]
     },
     "execution_count": 7,
     "metadata": {},
     "output_type": "execute_result"
    }
   ],
   "source": [
    "# Создает копию массива X и приводит его к типу данных float64.\n",
    "# Копия создается для того, чтобы избежать изменений в исходном массиве X.\n",
    "X_st = X.copy().astype(np.float64)\n",
    "\n",
    "# Применяет функцию standard_scale,\n",
    "# которую мы определили ранее, к подмассиву X_st[:, 1:4].\n",
    "# В данном случае X_st[:, 1:4] обозначает\n",
    "# все строки и столбцы с индексами с 1 по 3 (включительно).\n",
    "# Это значит, что применяется стандартное масштабирование\n",
    "# к столбцам с индексами 1, 2 и 3 (индексация начинается с 0).\n",
    "X_st[:, 1:4] = standard_scale(X_st[:, 1:4])\n",
    "X_st"
   ]
  },
  {
   "cell_type": "code",
   "execution_count": 8,
   "metadata": {},
   "outputs": [
    {
     "name": "stdout",
     "output_type": "stream",
     "text": [
      "-4.163336342344337e-17 0.9999999999999999\n"
     ]
    },
    {
     "data": {
      "image/png": "[encoded data removed]",
      "text/plain": [
       "<Figure size 640x480 with 1 Axes>"
      ]
     },
     "metadata": {},
     "output_type": "display_data"
    }
   ],
   "source": [
    "ind = 2\n",
    "# Это индекс столбца в массиве X_st, который мы хотим анализировать.\n",
    "\n",
    "print(np.mean(X_st[:, ind]), np.std(X_st[:, ind]))\n",
    "# Выводит на экран среднее значение и стандартное отклонение значений\n",
    "# в столбце с индексом ind в массиве X_st.\n",
    "# X_st[:, ind] обозначает все значения в указанном столбце.\n",
    "\n",
    "plt.hist(X_st[:, ind])\n",
    "# Создает гистограмму (график распределения) значений в столбце\n",
    "# с индексом ind в массиве X_st. Гистограмма показывает,\n",
    "# как часто встречаются различные значения в столбце.\n",
    "plt.show()"
   ]
  },
  {
   "cell_type": "code",
   "execution_count": 9,
   "metadata": {},
   "outputs": [],
   "source": [
    "def calc_mse(y, y_pred):\n",
    "\n",
    "    err = np.mean((y - y_pred) ** 2)\n",
    "    # Вычисляет среднеквадратичную ошибку (MSE, Mean Squared Error)\n",
    "    # между фактическими значениями y и предсказанными значениями y_pred.\n",
    "    # Она вычисляется как среднее значение квадратов разностей\n",
    "    # между фактическими и предсказанными значениями.\n",
    "\n",
    "    return err"
   ]
  },
  {
   "cell_type": "markdown",
   "metadata": {},
   "source": [
    "**1. Напишите функцию наподобие gradient_descent_reg_l2, но для применения L1-регуляризации.**"
   ]
  },
  {
   "cell_type": "code",
   "execution_count": 10,
   "metadata": {},
   "outputs": [],
   "source": [
    "# W / np.abs(W)\n",
    "# +1 / 1 = +\n",
    "# -1 / 1 = -\n",
    "# 0 / 0 = nan"
   ]
  },
  {
   "cell_type": "code",
   "execution_count": 11,
   "metadata": {},
   "outputs": [
    {
     "data": {
      "text/plain": [
       "0"
      ]
     },
     "execution_count": 11,
     "metadata": {},
     "output_type": "execute_result"
    }
   ],
   "source": [
    "np.sign(0)\n",
    "# Это вызов функции sign из библиотеки NumPy (np).\n",
    "# Функция sign возвращает знак числа.\n",
    "# В данном случае аргументом является число 0.\n",
    "# Так как 0 не имеет знака, функция вернет 0."
   ]
  },
  {
   "cell_type": "code",
   "execution_count": 12,
   "metadata": {},
   "outputs": [],
   "source": [
    "# Определение функции gradient_descent_reg_l1.\n",
    "# Она принимает четыре аргумента:\n",
    "# X - матрица признаков,\n",
    "# y - вектор целевых значений,\n",
    "# iterations - количество итераций градиентного спуска,\n",
    "# eta - скорость обучения (по умолчанию 1e-4),\n",
    "# reg - параметр регуляризации (по умолчанию 1e-8).\n",
    "def gradient_descent_reg_l1(X, y, iterations, eta=1e-4, reg=1e-8):\n",
    "    \n",
    "    # Инициализирует вектор весов W случайными значениями\n",
    "    # из стандартного нормального распределения.\n",
    "    # Количество элементов в векторе равно\n",
    "    # количеству признаков в матрице X.\n",
    "    W = np.random.randn(X.shape[1])\n",
    "\n",
    "    # Сохраняет количество наблюдений в переменную n.\n",
    "    n = X.shape[0]\n",
    "    \n",
    "    for i in range(0, iterations):\n",
    "\n",
    "        # Вычисляет предсказанные значения целевой переменной y\n",
    "        # с использованием текущих весов W и матрицы признаков X.\n",
    "        y_pred = np.dot(X, W)\n",
    "\n",
    "        # Вычисляет среднеквадратичную ошибку между\n",
    "        # фактическими значениями y и предсказанными значениями y_pred.\n",
    "        err = calc_mse(y, y_pred)\n",
    "        \n",
    "        # Вычисляет градиент функции потерь (MSE)\n",
    "        # по формуле градиента квадратичной ошибки.\n",
    "        # @ обозначает матричное умножение.\n",
    "        dQ = 2/n * X.T @ (y_pred - y)\n",
    "\n",
    "        # Вычисляет градиент регуляризации L1, который является\n",
    "        # производной абсолютной величины весов\n",
    "        # и используется для уменьшения значений весов.\n",
    "        dReg = reg * np.sign(W)\n",
    "        \n",
    "        # Обновляет веса W с учетом градиента функции потерь и градиента регуляризации.\n",
    "        W -= eta * (dQ + dReg)\n",
    "        \n",
    "        # Проверяет, является ли текущая итерация одной из десяти итераций.\n",
    "        if i % (iterations / 10) == 0:\n",
    "            # Выводит информацию о текущей итерации, весах и значении ошибки.\n",
    "            print(f'Iter: {i}, weights: {W}, error {err}')\n",
    "    \n",
    "    # Выводит значение среднеквадратичной ошибки после завершения всех итераций.\n",
    "    print(f'Final MSE: {calc_mse(y, np.dot(X, W))}')\n",
    "\n",
    "    # Возвращает обновленные веса W.\n",
    "    return W"
   ]
  },
  {
   "cell_type": "code",
   "execution_count": 13,
   "metadata": {},
   "outputs": [
    {
     "name": "stdout",
     "output_type": "stream",
     "text": [
      "Iter: 0, weights: [-0.17068255  1.67942864 -0.1953432  -0.79710609], error 3504.077839540324\n",
      "Iter: 500, weights: [56.49267536  5.98845835  1.14574296  5.32922817], error 25.30428528762906\n",
      "Iter: 1000, weights: [56.4949999   6.18836524  0.18366988  6.12272255], error 24.956554941301853\n",
      "Iter: 1500, weights: [56.495       6.25016034 -0.1334994   6.39216217], error 24.913324204061887\n",
      "Iter: 2000, weights: [56.495       6.27072088 -0.23793584  6.47938503], error 24.90707338934137\n",
      "Iter: 2500, weights: [56.495       6.27847563 -0.27563809  6.51055651], error 24.905771285105246\n",
      "Iter: 3000, weights: [56.495       6.281285   -0.2892144   6.52176497], error 24.905425562697296\n",
      "Iter: 3500, weights: [56.495       6.28229714 -0.29410136  6.52579878], error 24.905317062826757\n",
      "Iter: 4000, weights: [56.495       6.2826615  -0.2958604   6.52725069], error 24.905280074865296\n",
      "Iter: 4500, weights: [56.495       6.28279265 -0.29649355  6.52777329], error 24.905267029007764\n",
      "Final MSE: 24.905262367938512\n"
     ]
    },
    {
     "data": {
      "text/plain": [
       "array([56.495     ,  6.2828398 , -0.29672119,  6.52796118])"
      ]
     },
     "execution_count": 13,
     "metadata": {},
     "output_type": "execute_result"
    }
   ],
   "source": [
    "gradient_descent_reg_l1(X_st, y, iterations=5000, eta=1e-2, reg=1e-2)\n",
    "# Это вызов функции gradient_descent_reg_l1 с аргументами:\n",
    "#    - X_st: Матрица признаков, которая была масштабирована\n",
    "#      с помощью стандартного метода масштабирования (стандартизации).\n",
    "#    - y: Вектор целевых значений.\n",
    "#    - iterations=5000: Количество итераций градиентного спуска задано равным 5000.\n",
    "#    - eta=1e-2: Скорость обучения (learning rate) установлена на значение 0.01.\n",
    "#    - reg=1e-2: Параметр регуляризации установлен на значение 0.01.\n",
    "\n",
    "# Этот вызов функции позволяет выполнить градиентный спуск\n",
    "# с регуляризацией L1 на масштабированных данных X_st\n",
    "# с целевыми значениями y в течение 5000 итераций,\n",
    "# используя скорость обучения 0.01 и параметр регуляризации 0.01."
   ]
  },
  {
   "cell_type": "markdown",
   "metadata": {},
   "source": [
    "**2. *Можно ли к одному и тому же признаку применить сразу и нормализацию, и стандартизацию?**"
   ]
  },
  {
   "cell_type": "code",
   "execution_count": 14,
   "metadata": {},
   "outputs": [],
   "source": [
    "# Технически, можно применить и нормализацию,\n",
    "# и стандартизацию к одному и тому же признаку,\n",
    "# но это может привести к избыточной обработке данных и искажению результатов.\n",
    "# Нормализация и стандартизация имеют разные эффекты на данные:\n",
    "\n",
    "# 1. Нормализация (например, Min-Max Scaling)\n",
    "# масштабирует данные в заданный диапазон,\n",
    "# обычно от 0 до 1 или -1 до 1. Это полезно,\n",
    "# когда значения признаков имеют различные диапазоны\n",
    "# и нужно установить одинаковый диапазон для всех признаков.\n",
    "\n",
    "# 2. Стандартизация (например, Z-score Normalization)\n",
    "# центрирует данные вокруг среднего значения\n",
    "# и масштабирует их на стандартное отклонение.\n",
    "# Это полезно, когда значения признаков имеют разные масштабы\n",
    "# и нужно обеспечить, чтобы все признаки имели схожие шкалы.\n",
    "\n",
    "# Применение обоих методов к одному признаку\n",
    "# может привести к излишней обработке и потере информации.\n",
    "# Обычно выбирают один метод масштабирования\n",
    "# в зависимости от конкретных потребностей задачи и свойств данных."
   ]
  },
  {
   "cell_type": "code",
   "execution_count": 15,
   "metadata": {},
   "outputs": [],
   "source": [
    "def standard_scale(X):\n",
    "\n",
    "    # Вычисляет среднее значение каждого столбца в матрице X.\n",
    "    # Параметр axis=0 указывает, что вычисления выполняются по столбцам.\n",
    "    mean = X.mean(axis=0)\n",
    "\n",
    "    # Вычисляет стандартное отклонение каждого столбца в матрице X.\n",
    "    # Параметр axis=0 указывает, что вычисления выполняются по столбцам.\n",
    "    std = X.std(axis=0)\n",
    "\n",
    "    # Возвращает матрицу X, в которой каждое значение центрировано\n",
    "    # относительно среднего значения соответствующего столбца\n",
    "    # и затем масштабировано на стандартное отклонение.\n",
    "    # Таким образом, функция реализует масштабирование признаков\n",
    "    # с помощью стандартного метода масштабирования (стандартизации).\n",
    "    return (X - mean) / std"
   ]
  },
  {
   "cell_type": "code",
   "execution_count": 16,
   "metadata": {},
   "outputs": [],
   "source": [
    "# Определение функции с именем min_max_scale,\n",
    "# которая принимает один аргумент X,\n",
    "# представляющий собой матрицу признаков.\n",
    "def min_max_scale(X):\n",
    "\n",
    "    return (X - X.min(axis=0)) / (X.max(axis=0) - X.min(axis=0))\n",
    "#     Вычисляет минимум и максимум для каждого столбца в матрице X\n",
    "#     и затем выполняет мин-макс масштабирование. \n",
    "#    - X.min(axis=0): Эта часть кода вычисляет минимальное значение для каждого столбца в матрице X.\n",
    "#    - X.max(axis=0): Эта часть кода вычисляет максимальное значение для каждого столбца в матрице X.\n",
    "#    - (X - X.min(axis=0)): Вычитание минимального значения из каждого элемента матрицы X центрирует данные относительно нуля.\n",
    "#    - (X.max(axis=0) - X.min(axis=0)): Этот код вычисляет разницу между максимальным\n",
    "#      и минимальным значениями в каждом столбце, что определяет диапазон значений.\n",
    "#    - Затем результат делится на этот диапазон, чтобы масштабировать данные к диапазону от 0 до 1."
   ]
  },
  {
   "cell_type": "code",
   "execution_count": 17,
   "metadata": {},
   "outputs": [
    {
     "data": {
      "text/plain": [
       "(array([0., 0., 0.]), array([1., 1., 1.]))"
      ]
     },
     "execution_count": 17,
     "metadata": {},
     "output_type": "execute_result"
    }
   ],
   "source": [
    "# Создает копию исходного массива X\n",
    "# и приводит его к типу данных float64.\n",
    "# Копия создается для того,\n",
    "# чтобы избежать изменений в исходном массиве X.\n",
    "X_norm = X.copy().astype('float64')\n",
    "\n",
    "# Применяет функцию min_max_scale,\n",
    "# которая реализует метод мин-макс масштабирования, к подмассиву X_norm[:, 1:].\n",
    "# В данном случае X_norm[:, 1:] обозначает все строки и столбцы, начиная со второго (индекс 1),\n",
    "# таким образом, применяется масштабирование только к признакам, начиная со второго.\n",
    "X_norm = min_max_scale(X_norm[:, 1:])\n",
    "\n",
    "# Вычисляет минимальное / максимальное значение для каждого столбца в массиве X_norm.\n",
    "# Параметр axis=0 указывает, что вычисления выполняются по столбцам.\n",
    "X_norm.min(axis=0), X_norm.max(axis=0)\n",
    "\n",
    "# Таким образом, в итоге мы получаем минимальные и максимальные значения\n",
    "# для каждого столбца массива X_norm после применения мин-макс масштабирования."
   ]
  },
  {
   "cell_type": "code",
   "execution_count": 18,
   "metadata": {},
   "outputs": [
    {
     "data": {
      "text/plain": [
       "(array([0.3       , 0.33870968, 0.35      ]),\n",
       " array([0.28284271, 0.31283671, 0.39051248]))"
      ]
     },
     "execution_count": 18,
     "metadata": {},
     "output_type": "execute_result"
    }
   ],
   "source": [
    "# Вычисляет среднее значение / стандартное отклонение для каждого столбца в массиве X_norm.\n",
    "# Параметр axis=0 указывает, что вычисления выполняются по столбцам.\n",
    "X_norm.mean(axis=0), X_norm.std(axis=0)\n",
    "\n",
    "# Таким образом, в результате мы получаем средние значения\n",
    "# и стандартные отклонения для каждого столбца массива X_norm.\n",
    "# Эти значения могут использоваться для анализа\n",
    "# и интерпретации данных после применения мин-макс масштабирования."
   ]
  },
  {
   "cell_type": "code",
   "execution_count": 19,
   "metadata": {},
   "outputs": [
    {
     "data": {
      "text/plain": [
       "(array([-1.06066017, -1.08270439, -0.89625816]),\n",
       " array([2.47487373, 2.11385144, 1.66447944]))"
      ]
     },
     "execution_count": 19,
     "metadata": {},
     "output_type": "execute_result"
    }
   ],
   "source": [
    "# Вызывает функцию standard_scale, которая реализует стандартное масштабирование (стандартизацию),\n",
    "# и применяет ее к массиву X_norm. Каждый столбец в массиве центрируется\n",
    "# относительно его среднего значения и масштабируется на стандартное отклонение.\n",
    "X_norm_st = standard_scale(X_norm)\n",
    "\n",
    "# Вычисляет минимальное / максимальное значение для каждого столбца в массиве X_norm_st,\n",
    "# который был стандартизирован с помощью функции standard_scale.\n",
    "# Параметр axis=0 указывает, что вычисления выполняются по столбцам.\n",
    "X_norm_st.min(axis=0), X_norm_st.max(axis=0)\n",
    "\n",
    "# Таким образом, в результате мы получаем минимальные\n",
    "# и максимальные значения для каждого столбца массива X_norm_st\n",
    "# после применения стандартного масштабирования."
   ]
  },
  {
   "cell_type": "code",
   "execution_count": 20,
   "metadata": {},
   "outputs": [
    {
     "data": {
      "text/plain": [
       "(array([-1.49880108e-16, -6.86950496e-17,  8.32667268e-17]),\n",
       " array([1., 1., 1.]))"
      ]
     },
     "execution_count": 20,
     "metadata": {},
     "output_type": "execute_result"
    }
   ],
   "source": [
    "# вычисляет среднее значение / стандартное отклонение для каждого столбца в массиве X_norm_st,\n",
    "# который был стандартизирован с помощью функции standard_scale.\n",
    "# Параметр axis=0 указывает, что вычисления выполняются по столбцам.\n",
    "X_norm_st.mean(axis=0), X_norm_st.std(axis=0)\n",
    "\n",
    "# Таким образом, в результате мы получаем средние значения\n",
    "# и стандартные отклонения для каждого столбца массива X_norm_st,\n",
    "# который был стандартизирован с помощью функции standard_scale.\n",
    "# Эти значения могут использоваться для анализа\n",
    "# и интерпретации данных после применения стандартного масштабирования."
   ]
  },
  {
   "cell_type": "markdown",
   "metadata": {},
   "source": [
    "**3. *Сгенерируйте датасет при помощи <code>sklearn.datasets.make_regression</code> и обучите линейную модель при помощи градиентного и стохастического градиентного спуска. Нанесите среднеквадратичную ошибку для обоих методов на один график, сделайте выводы о разнице скорости сходимости каждого из методов.**"
   ]
  },
  {
   "cell_type": "code",
   "execution_count": 22,
   "metadata": {},
   "outputs": [
    {
     "data": {
      "text/plain": [
       "array([[-0.71760732, -1.09367119, -0.73597009, ..., -0.09194752,\n",
       "         0.77271648, -0.5294093 ],\n",
       "       [-0.21856062, -0.43937009,  1.17601766, ..., -0.44205731,\n",
       "         0.65967443, -0.5364636 ],\n",
       "       [-0.09232329, -0.04777714,  0.58128624, ..., -0.64041891,\n",
       "         1.29076796, -0.34530826],\n",
       "       ...,\n",
       "       [-0.1724219 ,  1.20477844,  0.77081956, ...,  1.78646758,\n",
       "        -0.59041036, -0.6747931 ],\n",
       "       [ 0.93830193, -0.05266006,  1.45767292, ..., -1.01765261,\n",
       "         0.02393901,  1.37086726],\n",
       "       [-0.99582701,  1.30720547, -0.04855569, ...,  1.85683052,\n",
       "        -0.26133944,  0.50888458]])"
      ]
     },
     "metadata": {},
     "output_type": "display_data"
    },
    {
     "data": {
      "text/plain": [
       "array([-133.10543687,   44.01778172,   48.98233093, ..., -271.14963388,\n",
       "        161.66813826,  380.05918834])"
      ]
     },
     "metadata": {},
     "output_type": "display_data"
    },
    {
     "data": {
      "text/plain": [
       "array([8.03590530e+00, 9.63394753e+00, 0.00000000e+00, 0.00000000e+00,\n",
       "       0.00000000e+00, 7.86058430e+01, 0.00000000e+00, 0.00000000e+00,\n",
       "       9.61298231e+01, 5.95379955e+01, 0.00000000e+00, 3.30583257e+01,\n",
       "       3.71965212e+01, 6.59198012e-02, 0.00000000e+00, 0.00000000e+00,\n",
       "       0.00000000e+00, 2.78539772e+01, 0.00000000e+00, 7.36381949e+01])"
      ]
     },
     "metadata": {},
     "output_type": "display_data"
    }
   ],
   "source": [
    "# Импортирует модуль datasets из библиотеки sklearn,\n",
    "# который содержит наборы данных для экспериментов и примеров.\n",
    "from sklearn import datasets\n",
    "\n",
    "# Вызывает функцию make_regression для генерации синтетических данных для задачи регрессии.\n",
    "# Параметры функции:\n",
    "#    - n_samples=100000: Количество образцов данных. В данном случае 100000.\n",
    "#    - n_features=20: Количество признаков (факторов). В данном случае 20.\n",
    "#    - n_informative=10: Количество информативных признаков,\n",
    "#      которые действительно влияют на целевую переменную. В данном случае 10.\n",
    "#    - n_targets=1: Количество целевых переменных. В данном случае 1.\n",
    "#    - noise=5: Уровень шума в данных (стандартное отклонение случайной ошибки). В данном случае 5.\n",
    "#    - coef=True: Если установлено в True, функция возвращает истинные коэффициенты,\n",
    "#      используемые для создания данных. В данном случае это означает,\n",
    "#      что возвращается истинный вектор коэффициентов.\n",
    "#    - random_state=2: Зерно случайности для воспроизводимости результатов.\n",
    "X, Y, coef = datasets.make_regression(n_samples=100000, n_features=20, n_informative=10, n_targets=1, \n",
    "                                      noise=5, coef=True, random_state=2)\n",
    "\n",
    "# Выводит сгенерированные данные X (матрица признаков), Y (вектор целевых переменных)\n",
    "# и coef (истинный вектор коэффициентов) на экран с помощью функции display.\n",
    "display(X, Y, coef)"
   ]
  },
  {
   "cell_type": "code",
   "execution_count": 23,
   "metadata": {},
   "outputs": [],
   "source": [
    "# Вызывает функцию standard_scale,\n",
    "# которая реализует стандартное масштабирование (стандартизацию),\n",
    "# и применяет ее к массиву X. Каждый столбец в массиве центрируется\n",
    "# относительно его среднего значения и масштабируется на стандартное отклонение.\n",
    "# Полученный результат сохраняется в переменную X, перезаписывая исходные данные.\n",
    "X = standard_scale(X)"
   ]
  },
  {
   "cell_type": "code",
   "execution_count": 24,
   "metadata": {},
   "outputs": [
    {
     "data": {
      "text/plain": [
       "array([ 1.10855471e-03, -2.89544069e-01, -1.11606630e+00, -1.28827567e-02,\n",
       "       -3.78361464e-01, -4.81135363e-01, -1.51733118e+00, -4.90871981e-01,\n",
       "       -2.40680579e-01, -6.47947460e-01,  6.35891080e-01,  1.74011731e+00,\n",
       "        2.96682218e-01,  7.07503662e-01,  1.82281576e+00,  4.30769029e-01,\n",
       "        1.54272963e+00, -9.00721171e-01, -1.37125010e-01,  1.29757901e+00])"
      ]
     },
     "execution_count": 24,
     "metadata": {},
     "output_type": "execute_result"
    }
   ],
   "source": [
    "# Устанавливает зерно генератора случайных чисел библиотеки NumPy равным 9.\n",
    "# Это делает генерацию случайных чисел воспроизводимой:\n",
    "# каждый раз, когда вы вызываете функции генерации случайных чисел\n",
    "# из библиотеки NumPy после установки этого зерна,\n",
    "# вы получите одни и те же результаты.\n",
    "np.random.seed(9)\n",
    "\n",
    "# Создает начальные веса (вектор весов) для использования в алгоритме обучения.\n",
    "# np.random.randn(X.shape[1]) создает массив случайных чисел\n",
    "# из стандартного нормального распределения размером,\n",
    "# соответствующим количеству признаков в матрице X.\n",
    "# В данном случае это вектор init_W,\n",
    "# содержащий случайные начальные значения весов.\n",
    "init_W = np.random.randn(X.shape[1])\n",
    "\n",
    "# Возвращает созданный вектор начальных весов.\n",
    "init_W"
   ]
  },
  {
   "cell_type": "code",
   "execution_count": 25,
   "metadata": {},
   "outputs": [],
   "source": [
    "# стохастический градиентный спуск\n",
    "# Определение функции stohastic_gradient_descent.\n",
    "# Она принимает следующие аргументы:\n",
    "#    - W: Начальные веса (вектор весов).\n",
    "#    - X: Матрица признаков.\n",
    "#    - Y: Вектор целевых значений.\n",
    "#    - iterations: Количество итераций градиентного спуска.\n",
    "#    - eta=1e-4: Скорость обучения (по умолчанию 0.0001).\n",
    "#    - size=1: Размер подвыборки (по умолчанию 1).\n",
    "def stohastic_gradient_descent(W, X, Y, iterations, eta=1e-4, size=1):\n",
    "\n",
    "    # Сохраняет количество наблюдений в переменную n.\n",
    "    n = X.shape[0]\n",
    "    \n",
    "    errors = []\n",
    "\n",
    "    # Создает список, в который будут добавляться значения весов на каждой итерации.\n",
    "    # На первой итерации в список добавляется копия начальных весов.\n",
    "    w_list = [W.copy()]\n",
    "\n",
    "    for i in range(0, iterations):\n",
    "\n",
    "        # Генерирует случайный индекс для формирования подвыборки.\n",
    "        # np.random.randint(X.shape[0], size=size) создает массив\n",
    "        # случайных целых чисел от 0 до X.shape[0] - 1 размером size.\n",
    "        train_ind = np.random.randint(X.shape[0], size=size)\n",
    "\n",
    "        # Вычисляет предсказанные значения целевой переменной\n",
    "        # на подвыборке train_ind с использованием\n",
    "        # текущих весов W и матрицы признаков X.\n",
    "        y_pred = np.dot(X[train_ind], W)\n",
    "\n",
    "        # Обновляет веса W с использованием стохастического градиентного спуска.\n",
    "        # Здесь происходит вычитание отклонения предсказанных значений от фактических,\n",
    "        # умноженного на матрицу признаков и скорость обучения.\n",
    "        W = W - eta * 2 / Y[train_ind].shape[0] * np.dot(X[train_ind].T, y_pred - Y[train_ind])\n",
    "\n",
    "        # Вычисляет среднеквадратичную ошибку\n",
    "        # на всей выборке с использованием текущих весов W.\n",
    "        error = calc_mse(Y, np.dot(X, W))\n",
    "\n",
    "        # Добавляет значение ошибки в список ошибок.\n",
    "        errors.append(error)\n",
    "\n",
    "        # Добавляет текущие веса W в список весов.\n",
    "        w_list.append(W)\n",
    "        \n",
    "        # Проверяет, является ли текущая итерация одной из десяти итераций.\n",
    "        if i % (iterations / 10) == 0:\n",
    "            # Если условие выполнено, эта строка выводит информацию\n",
    "            # о текущей итерации и значении ошибки.\n",
    "            print(f'Iter: {i}, error {error}')\n",
    "    \n",
    "    # Выводит окончательное значение среднеквадратичной ошибки\n",
    "    # после завершения всех итераций.\n",
    "    print(f'Final MSE: {calc_mse(Y, np.dot(X, W))}')\n",
    "\n",
    "    # Возвращает обновленные веса W, список ошибок на каждой итерации\n",
    "    # и список значений весов на каждой итерации.\n",
    "    return W, errors, w_list"
   ]
  },
  {
   "cell_type": "code",
   "execution_count": 26,
   "metadata": {},
   "outputs": [],
   "source": [
    "# классический  GD\n",
    "\n",
    "# Определение функции gradient_descent. Она принимает следующие аргументы:\n",
    "#    - W: Начальные веса (вектор весов).\n",
    "#    - X: Матрица признаков.\n",
    "#    - y: Вектор целевых значений.\n",
    "#    - iterations: Количество итераций градиентного спуска.\n",
    "#    - eta=1e-4: Скорость обучения (по умолчанию 0.0001).\n",
    "def gradient_descent(W, X, y, iterations, eta=1e-4):\n",
    "\n",
    "    # Сохраняет количество наблюдений в переменную n.\n",
    "    n = X.shape[0]\n",
    "    \n",
    "    errors = []\n",
    "\n",
    "    # Создает список, в который будут добавляться значения весов на каждой итерации.\n",
    "    # На первой итерации в список добавляется копия начальных весов.\n",
    "    w_list = [W.copy()]\n",
    "    \n",
    "    for i in range(0, iterations):\n",
    "\n",
    "        # Вычисляет предсказанные значения целевой переменной\n",
    "        # на всей выборке с использованием текущих весов W и матрицы признаков X.\n",
    "        y_pred = np.dot(X, W)\n",
    "\n",
    "        # Вычисляет среднеквадратичную ошибку на всей выборке\n",
    "        # с использованием предсказанных значений y_pred и истинных значений y.\n",
    "        err = calc_mse(y, y_pred)\n",
    "\n",
    "        # Добавляет значение ошибки в список ошибок.\n",
    "        errors.append(err)\n",
    "        \n",
    "        # Вычисляет градиент функции ошибки.\n",
    "        # X.T @ (y_pred - y) - это произведение матрицы признаков X\n",
    "        # транспонированной на разницу между\n",
    "        # предсказанными значениями y_pred и истинными значениями y.\n",
    "        dQ = 2/n * X.T @ (y_pred - y)\n",
    "\n",
    "        # Обновляет веса W с использованием градиентного спуска.\n",
    "        # Мы вычитаем от прошлых весов градиент,\n",
    "        # умноженный на скорость обучения eta.\n",
    "        W -= (eta * dQ)\n",
    "\n",
    "        # Добавляет текущие веса W в список весов.\n",
    "        w_list.append(W.copy())\n",
    "        \n",
    "        # Проверяет, является ли текущая итерация одной из десяти итераций.\n",
    "        if i % (iterations / 10) == 0:\n",
    "            # Если условие выполнено, эта строка выводит информацию\n",
    "            # о текущей итерации и значении ошибки.\n",
    "            print(f'Iter: {i}, error {err}')\n",
    "    # Выводит окончательное значение среднеквадратичной ошибки после завершения всех итераций.    \n",
    "    print(f'Final MSE: {calc_mse(y, np.dot(X, W))}')\n",
    "\n",
    "    # Возвращает обновленные веса W, список ошибок на каждой итерации\n",
    "    # и список значений весов на каждой итерации.\n",
    "    return W, errors, w_list"
   ]
  },
  {
   "cell_type": "code",
   "execution_count": 27,
   "metadata": {},
   "outputs": [
    {
     "name": "stdout",
     "output_type": "stream",
     "text": [
      "Iter: 0, error 27979.272752767254\n",
      "Iter: 500, error 3738.23221757507\n",
      "Iter: 1000, error 518.6388255248812\n",
      "Iter: 1500, error 90.72566724830706\n",
      "Iter: 2000, error 33.81199274291517\n",
      "Iter: 2500, error 26.23694585114313\n",
      "Iter: 3000, error 25.2280115236372\n",
      "Iter: 3500, error 25.093533811524267\n",
      "Iter: 4000, error 25.075596872220995\n",
      "Iter: 4500, error 25.073202688051442\n",
      "Final MSE: 25.072882888141045\n",
      "CPU times: total: 1min 43s\n",
      "Wall time: 1min 12s\n"
     ]
    }
   ],
   "source": [
    "%%time\n",
    "# Эта строка является магической командой в блокнотах Jupyter и IPython,\n",
    "# которая используется для измерения времени выполнения всей ячейки.\n",
    "\n",
    "weights_GD, errors_GD, w_list_GD = gradient_descent(init_W, X, Y, iterations=5000, eta=1e-3)\n",
    "# Эта строка вызывает функцию gradient_descent с определенными аргументами\n",
    "# и присваивает возвращаемые значения переменным\n",
    "# weights_GD, errors_GD, и w_list_GD.\n",
    "# Аргументы функции:\n",
    "#    - init_W: Начальные веса (вектор весов).\n",
    "#    - X: Матрица признаков.\n",
    "#    - Y: Вектор целевых значений.\n",
    "#    - iterations=5000: Количество итераций градиентного спуска (по умолчанию 5000).\n",
    "#    - eta=1e-3: Скорость обучения (по умолчанию 0.001).\n",
    "\n",
    "# Таким образом, эта строка выполняет градиентный спуск\n",
    "# с заданными параметрами и измеряет время выполнения этой операции."
   ]
  },
  {
   "cell_type": "code",
   "execution_count": 28,
   "metadata": {},
   "outputs": [
    {
     "name": "stdout",
     "output_type": "stream",
     "text": [
      "Iter: 0, error 28087.67972997101\n",
      "Iter: 500, error 3770.0442619195705\n",
      "Iter: 1000, error 664.9189937647117\n",
      "Iter: 1500, error 117.95244650887157\n",
      "Iter: 2000, error 39.12318315284555\n",
      "Iter: 2500, error 27.952883689521173\n",
      "Iter: 3000, error 25.987917825198398\n",
      "Iter: 3500, error 25.64473853921552\n",
      "Iter: 4000, error 25.616916194200293\n",
      "Iter: 4500, error 25.578112991924343\n",
      "Final MSE: 25.567766841972453\n",
      "CPU times: total: 25.4 s\n",
      "Wall time: 8.98 s\n"
     ]
    }
   ],
   "source": [
    "%%time\n",
    "weights_SGD, errors_SGD, w_list_SGD = stohastic_gradient_descent(np.random.randn(X.shape[1]), X, Y, iterations=5000, eta=1e-3, size=1)\n",
    "# Вызывает функцию stohastic_gradient_descent с определенными аргументами\n",
    "# и присваивает возвращаемые значения переменным\n",
    "# weights_SGD, errors_SGD и w_list_SGD.\n",
    "# Аргументы функции:\n",
    "#    - init_W: Начальные веса (вектор весов).\n",
    "#    - X: Матрица признаков.\n",
    "#    - Y: Вектор целевых значений.\n",
    "#    - iterations=5000: Количество итераций градиентного спуска (по умолчанию 5000).\n",
    "#    - eta=1e-3: Скорость обучения (по умолчанию 0.001).\n",
    "#    - size=1: Размер подвыборки (по умолчанию 1).\n",
    "\n",
    "# Таким образом, эта строка выполняет стохастический градиентный спуск\n",
    "# с заданными параметрами и измеряет время выполнения этой операции."
   ]
  },
  {
   "cell_type": "code",
   "execution_count": 29,
   "metadata": {},
   "outputs": [
    {
     "data": {
      "image/png": "[encoded data removed]",
      "text/plain": [
       "<Figure size 640x480 with 1 Axes>"
      ]
     },
     "metadata": {},
     "output_type": "display_data"
    }
   ],
   "source": [
    "# Визуализируем изменение функционала ошибки\n",
    "\n",
    "plt.plot(range(len(errors_GD)), errors_GD, color='b', label='GD')\n",
    "# Создает график с помощью функции plot из библиотеки matplotlib.pyplot.\n",
    "# Она строит линейный график ошибок для метода градиентного спуска (GD). \n",
    "#    - range(len(errors_GD)): Это генерирует последовательность чисел\n",
    "#      от 0 до длины списка errors_GD, что представляет собой номера итераций.\n",
    "#    - errors_GD: Это список значений ошибок для метода градиентного спуска (GD).\n",
    "#    - color='b': Это параметр, который задает цвет линии графика (синий).\n",
    "#    - label='GD': Это параметр, который задает метку для линии графика,\n",
    "#      которая будет использована в легенде.\n",
    "\n",
    "plt.plot(range(len(errors_SGD)), errors_SGD, color='g', label='SGD')\n",
    "# Создает второй линейный график ошибок для метода стохастического градиентного спуска (SGD).\n",
    "#    - range(len(errors_SGD)): Это генерирует последовательность чисел\n",
    "#      от 0 до длины списка errors_SGD, что представляет собой номера итераций.\n",
    "#    - errors_SGD: Это список значений ошибок для метода стохастического градиентного спуска (SGD).\n",
    "#    - color='g': Это параметр, который задает цвет линии графика (зеленый).\n",
    "#    - label='SGD': Это параметр, который задает метку для линии графика,\n",
    "#      которая будет использована в легенде.\n",
    "\n",
    "# Таким образом, эти две строки создают два графика ошибок\n",
    "# для методов градиентного спуска (GD)\n",
    "# и стохастического градиентного спуска (SGD)\n",
    "# и отображают их на одном графике.\n",
    "\n",
    "plt.title('MSE')\n",
    "plt.xlabel('Iteration number')\n",
    "plt.ylabel('MSE')\n",
    "plt.xlim(0, 1000)\n",
    "plt.legend();"
   ]
  },
  {
   "cell_type": "code",
   "execution_count": 30,
   "metadata": {},
   "outputs": [],
   "source": [
    "w_list_GD = np.array(w_list_GD)\n",
    "w_list_SGD = np.array(w_list_SGD)"
   ]
  },
  {
   "cell_type": "code",
   "execution_count": 31,
   "metadata": {},
   "outputs": [
    {
     "data": {
      "image/png": "[encoded data removed]",
      "text/plain": [
       "<Figure size 1300x600 with 1 Axes>"
      ]
     },
     "metadata": {},
     "output_type": "display_data"
    }
   ],
   "source": [
    "# Визуализируем изменение весов (красной точкой обозначены истинные веса, сгенерированные вначале)\n",
    "plt.figure(figsize=(13, 6))\n",
    "plt.title('Compare SGD and GD')\n",
    "plt.xlabel(r'$w_1$')\n",
    "plt.ylabel(r'$w_2$')\n",
    "\n",
    "plt.scatter(w_list_GD[:, 0], w_list_GD[:, 1], color='b')\n",
    "# Создает scatter plot (диаграмму рассеяния) для метода градиентного спуска (GD). \n",
    "#    - w_list_GD[:, 0]: Это значения первого веса (W0) из списка w_list_GD.\n",
    "#    - w_list_GD[:, 1]: Это значения второго веса (W1) из списка w_list_GD.\n",
    "#    - color='b': Это параметр, который задает цвет точек на диаграмме рассеяния (синий).\n",
    "\n",
    "plt.plot(w_list_GD[:, 0], w_list_GD[:, 1], color='b', label='GD')\n",
    "# Создает линейный график для метода градиентного спуска (GD). \n",
    "#    - w_list_GD[:, 0]: Это значения первого веса (W0) из списка w_list_GD.\n",
    "#    - w_list_GD[:, 1]: Это значения второго веса (W1) из списка w_list_GD.\n",
    "#    - color='b': Это параметр, который задает цвет линии графика (синий).\n",
    "#    - label='GD': Это параметр, который задает метку для линии графика,\n",
    "#      которая будет использована в легенде.\n",
    "\n",
    "\n",
    "plt.scatter(w_list_SGD[:, 0], w_list_SGD[:, 1], color='g')\n",
    "# Создает scatter plot (диаграмму рассеяния) для метода стохастического градиентного спуска (SGD). \n",
    "#    - w_list_SGD[:, 0]: Это значения первого веса (W0) из списка w_list_SGD.\n",
    "#    - w_list_SGD[:, 1]: Это значения второго веса (W1) из списка w_list_SGD.\n",
    "#    - color='g': Это параметр, который задает цвет точек на диаграмме рассеяния (зеленый).\n",
    "\n",
    "plt.plot(w_list_SGD[:, 0], w_list_SGD[:, 1], color='g', label='SGD')\n",
    "# Создает линейный график для метода стохастического градиентного спуска (SGD). \n",
    "#    - w_list_SGD[:, 0]: Это значения первого веса (W0) из списка w_list_SGD.\n",
    "#    - w_list_SGD[:, 1]: Это значения второго веса (W1) из списка w_list_SGD.\n",
    "#    - color='g': Это параметр, который задает цвет линии графика (зеленый).\n",
    "#    - label='SGD': Это параметр, который задает метку для линии графика,\n",
    "#      которая будет использована в легенде.\n",
    "\n",
    "plt.scatter(coef[0], coef[1], c='r')\n",
    "# Создает точку на диаграмме рассеяния для истинных значений весов (коэффициентов).\n",
    "#    - coef[0]: Это значение первого коэффициента из вектора coef.\n",
    "#    - coef[1]: Это значение второго коэффициента из вектора coef.\n",
    "#    - c='r': Это параметр, который задает цвет точки (красный).\n",
    "\n",
    "plt.legend()\n",
    "plt.show()"
   ]
  },
  {
   "cell_type": "markdown",
   "metadata": {},
   "source": [
    "Как видно по коду выше, метод стохастического градиентноог спуска выполняется в разы быстрее, чем метод классического градиентного спуска."
   ]
  }
 ],
 "metadata": {
  "kernelspec": {
   "display_name": ".venv",
   "language": "python",
   "name": "python3"
  },
  "language_info": {
   "codemirror_mode": {
    "name": "ipython",
    "version": 3
   },
   "file_extension": ".py",
   "mimetype": "text/x-python",
   "name": "python",
   "nbconvert_exporter": "python",
   "pygments_lexer": "ipython3",
   "version": "3.11.4"
  }
 },
 "nbformat": 4,
 "nbformat_minor": 2
}
